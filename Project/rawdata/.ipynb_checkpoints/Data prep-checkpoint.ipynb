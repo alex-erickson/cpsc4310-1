{
 "cells": [
  {
   "cell_type": "markdown",
   "metadata": {},
   "source": [
    "# Data preparation\n",
    "Since we have so much data, we will be selecting certain attributes for each problem we will be looking at.\n",
    "The dataset created in this file will be used for the classification problem. \n",
    "It will share many attributes with the other datasets."
   ]
  },
  {
   "cell_type": "code",
   "execution_count": 1,
   "metadata": {},
   "outputs": [],
   "source": [
    "import numpy as np\n",
    "import pandas as pd\n",
    "import re"
   ]
  },
  {
   "cell_type": "code",
   "execution_count": 2,
   "metadata": {},
   "outputs": [],
   "source": [
    "acs = pd.read_csv(\"acs_alldata.csv\", dtype=str, na_values=[\"(X)\", \"N\", \"-\"])"
   ]
  },
  {
   "cell_type": "code",
   "execution_count": 3,
   "metadata": {},
   "outputs": [
    {
     "data": {
      "text/html": [
       "<div>\n",
       "<style scoped>\n",
       "    .dataframe tbody tr th:only-of-type {\n",
       "        vertical-align: middle;\n",
       "    }\n",
       "\n",
       "    .dataframe tbody tr th {\n",
       "        vertical-align: top;\n",
       "    }\n",
       "\n",
       "    .dataframe thead th {\n",
       "        text-align: right;\n",
       "    }\n",
       "</style>\n",
       "<table border=\"1\" class=\"dataframe\">\n",
       "  <thead>\n",
       "    <tr style=\"text-align: right;\">\n",
       "      <th></th>\n",
       "      <th>GEO_ID</th>\n",
       "      <th>NAME</th>\n",
       "      <th>DP02_0001E</th>\n",
       "      <th>DP02_0001M</th>\n",
       "      <th>DP02_0001PE</th>\n",
       "      <th>DP02_0001PM</th>\n",
       "      <th>DP02_0002E</th>\n",
       "      <th>DP02_0002M</th>\n",
       "      <th>DP02_0002PE</th>\n",
       "      <th>DP02_0002PM</th>\n",
       "      <th>...</th>\n",
       "      <th>DP05_0087PE</th>\n",
       "      <th>DP05_0087PM</th>\n",
       "      <th>DP05_0088E</th>\n",
       "      <th>DP05_0088M</th>\n",
       "      <th>DP05_0088PE</th>\n",
       "      <th>DP05_0088PM</th>\n",
       "      <th>DP05_0089E</th>\n",
       "      <th>DP05_0089M</th>\n",
       "      <th>DP05_0089PE</th>\n",
       "      <th>DP05_0089PM</th>\n",
       "    </tr>\n",
       "  </thead>\n",
       "  <tbody>\n",
       "    <tr>\n",
       "      <th>0</th>\n",
       "      <td>1600000US0100100</td>\n",
       "      <td>Abanda CDP, Alabama</td>\n",
       "      <td>70</td>\n",
       "      <td>40</td>\n",
       "      <td>70</td>\n",
       "      <td>NaN</td>\n",
       "      <td>14</td>\n",
       "      <td>22</td>\n",
       "      <td>20</td>\n",
       "      <td>35.8</td>\n",
       "      <td>...</td>\n",
       "      <td>131</td>\n",
       "      <td>NaN</td>\n",
       "      <td>41</td>\n",
       "      <td>61</td>\n",
       "      <td>31.3</td>\n",
       "      <td>30.6</td>\n",
       "      <td>90</td>\n",
       "      <td>47</td>\n",
       "      <td>68.7</td>\n",
       "      <td>30.6</td>\n",
       "    </tr>\n",
       "    <tr>\n",
       "      <th>1</th>\n",
       "      <td>1600000US0100124</td>\n",
       "      <td>Abbeville city, Alabama</td>\n",
       "      <td>982</td>\n",
       "      <td>113</td>\n",
       "      <td>982</td>\n",
       "      <td>NaN</td>\n",
       "      <td>615</td>\n",
       "      <td>74</td>\n",
       "      <td>62.6</td>\n",
       "      <td>6.8</td>\n",
       "      <td>...</td>\n",
       "      <td>2083</td>\n",
       "      <td>NaN</td>\n",
       "      <td>1079</td>\n",
       "      <td>111</td>\n",
       "      <td>51.8</td>\n",
       "      <td>4</td>\n",
       "      <td>1004</td>\n",
       "      <td>93</td>\n",
       "      <td>48.2</td>\n",
       "      <td>4</td>\n",
       "    </tr>\n",
       "    <tr>\n",
       "      <th>2</th>\n",
       "      <td>1600000US0100460</td>\n",
       "      <td>Adamsville city, Alabama</td>\n",
       "      <td>1601</td>\n",
       "      <td>148</td>\n",
       "      <td>1601</td>\n",
       "      <td>NaN</td>\n",
       "      <td>1085</td>\n",
       "      <td>87</td>\n",
       "      <td>67.8</td>\n",
       "      <td>6.7</td>\n",
       "      <td>...</td>\n",
       "      <td>3437</td>\n",
       "      <td>NaN</td>\n",
       "      <td>1584</td>\n",
       "      <td>179</td>\n",
       "      <td>46.1</td>\n",
       "      <td>3.6</td>\n",
       "      <td>1853</td>\n",
       "      <td>147</td>\n",
       "      <td>53.9</td>\n",
       "      <td>3.6</td>\n",
       "    </tr>\n",
       "    <tr>\n",
       "      <th>3</th>\n",
       "      <td>1600000US0100484</td>\n",
       "      <td>Addison town, Alabama</td>\n",
       "      <td>339</td>\n",
       "      <td>71</td>\n",
       "      <td>339</td>\n",
       "      <td>NaN</td>\n",
       "      <td>198</td>\n",
       "      <td>55</td>\n",
       "      <td>58.4</td>\n",
       "      <td>10.2</td>\n",
       "      <td>...</td>\n",
       "      <td>579</td>\n",
       "      <td>NaN</td>\n",
       "      <td>309</td>\n",
       "      <td>85</td>\n",
       "      <td>53.4</td>\n",
       "      <td>5.8</td>\n",
       "      <td>270</td>\n",
       "      <td>73</td>\n",
       "      <td>46.6</td>\n",
       "      <td>5.8</td>\n",
       "    </tr>\n",
       "    <tr>\n",
       "      <th>4</th>\n",
       "      <td>1600000US0100676</td>\n",
       "      <td>Akron town, Alabama</td>\n",
       "      <td>110</td>\n",
       "      <td>33</td>\n",
       "      <td>110</td>\n",
       "      <td>NaN</td>\n",
       "      <td>62</td>\n",
       "      <td>29</td>\n",
       "      <td>56.4</td>\n",
       "      <td>16.7</td>\n",
       "      <td>...</td>\n",
       "      <td>260</td>\n",
       "      <td>NaN</td>\n",
       "      <td>120</td>\n",
       "      <td>67</td>\n",
       "      <td>46.2</td>\n",
       "      <td>12.7</td>\n",
       "      <td>140</td>\n",
       "      <td>51</td>\n",
       "      <td>53.8</td>\n",
       "      <td>12.7</td>\n",
       "    </tr>\n",
       "  </tbody>\n",
       "</table>\n",
       "<p>5 rows × 2086 columns</p>\n",
       "</div>"
      ],
      "text/plain": [
       "             GEO_ID                      NAME DP02_0001E DP02_0001M  \\\n",
       "0  1600000US0100100       Abanda CDP, Alabama         70         40   \n",
       "1  1600000US0100124   Abbeville city, Alabama        982        113   \n",
       "2  1600000US0100460  Adamsville city, Alabama       1601        148   \n",
       "3  1600000US0100484     Addison town, Alabama        339         71   \n",
       "4  1600000US0100676       Akron town, Alabama        110         33   \n",
       "\n",
       "  DP02_0001PE DP02_0001PM DP02_0002E DP02_0002M DP02_0002PE DP02_0002PM  ...  \\\n",
       "0          70         NaN         14         22          20        35.8  ...   \n",
       "1         982         NaN        615         74        62.6         6.8  ...   \n",
       "2        1601         NaN       1085         87        67.8         6.7  ...   \n",
       "3         339         NaN        198         55        58.4        10.2  ...   \n",
       "4         110         NaN         62         29        56.4        16.7  ...   \n",
       "\n",
       "  DP05_0087PE DP05_0087PM DP05_0088E DP05_0088M DP05_0088PE DP05_0088PM  \\\n",
       "0         131         NaN         41         61        31.3        30.6   \n",
       "1        2083         NaN       1079        111        51.8           4   \n",
       "2        3437         NaN       1584        179        46.1         3.6   \n",
       "3         579         NaN        309         85        53.4         5.8   \n",
       "4         260         NaN        120         67        46.2        12.7   \n",
       "\n",
       "  DP05_0089E DP05_0089M DP05_0089PE DP05_0089PM  \n",
       "0         90         47        68.7        30.6  \n",
       "1       1004         93        48.2           4  \n",
       "2       1853        147        53.9         3.6  \n",
       "3        270         73        46.6         5.8  \n",
       "4        140         51        53.8        12.7  \n",
       "\n",
       "[5 rows x 2086 columns]"
      ]
     },
     "execution_count": 3,
     "metadata": {},
     "output_type": "execute_result"
    }
   ],
   "source": [
    "acs.head()"
   ]
  },
  {
   "cell_type": "code",
   "execution_count": 4,
   "metadata": {},
   "outputs": [
    {
     "data": {
      "text/plain": [
       "(29568, 2086)"
      ]
     },
     "execution_count": 4,
     "metadata": {},
     "output_type": "execute_result"
    }
   ],
   "source": [
    "acs.shape"
   ]
  },
  {
   "cell_type": "markdown",
   "metadata": {},
   "source": [
    "## Selecting relevant columns\n",
    "We now select the specific columns that are relevant for the problems we are looking at"
   ]
  },
  {
   "cell_type": "code",
   "execution_count": 5,
   "metadata": {},
   "outputs": [],
   "source": [
    "attributes = {\n",
    "    \"DP02_0015E\": \"ave_household_size\",\n",
    "    \"DP02_0095PE\": \"p_not_citizen\",\n",
    "    \"DP03_0062E\": \"median_income\",\n",
    "    \"DP04_0005E\": \"rental_vacancy_rate\",\n",
    "    \"DP04_0007PE\": \"p_units_1_detached\",\n",
    "    \"DP04_0008PE\": \"p_units_1\",\n",
    "    \"DP04_0009PE\": \"p_units_2\",\n",
    "    \"DP04_0010PE\": \"p_units_34\",\n",
    "    \"DP04_0011PE\": \"p_units_59\",\n",
    "    \"DP04_0012PE\": \"p_units_10\",\n",
    "    \"DP04_0013PE\": \"p_units_20\",\n",
    "    \"DP04_0017PE\": \"p_built_2014\",\n",
    "    \"DP04_0018PE\": \"p_built_2010\",\n",
    "    \"DP04_0019PE\": \"p_built_2000\",\n",
    "    \"DP04_0020PE\": \"p_built_1990\",\n",
    "    \"DP04_0021PE\": \"p_built_1980\",\n",
    "    \"DP04_0022PE\": \"p_built_1970\",\n",
    "    \"DP04_0023PE\": \"p_built_1960\",\n",
    "    \"DP04_0024PE\": \"p_built_1950\",\n",
    "    \"DP04_0025PE\": \"p_built_1940\",\n",
    "    \"DP04_0026PE\": \"p_built_1930\",\n",
    "    \"DP04_0037E\": \"median_rooms\",\n",
    "    \"DP04_0134E\": \"median_rent\",\n",
    "    \"DP04_0089E\": \"median-value\"\n",
    "    \n",
    "}"
   ]
  },
  {
   "cell_type": "code",
   "execution_count": 6,
   "metadata": {},
   "outputs": [
    {
     "ename": "NameError",
     "evalue": "name 'attributes' is not defined",
     "output_type": "error",
     "traceback": [
      "\u001b[1;31m---------------------------------------------------------------------------\u001b[0m",
      "\u001b[1;31mNameError\u001b[0m                                 Traceback (most recent call last)",
      "\u001b[1;32m<ipython-input-6-dd20ae9216c4>\u001b[0m in \u001b[0;36m<module>\u001b[1;34m\u001b[0m\n\u001b[0;32m      1\u001b[0m \u001b[1;31m# select the colums\u001b[0m\u001b[1;33m\u001b[0m\u001b[1;33m\u001b[0m\u001b[1;33m\u001b[0m\u001b[0m\n\u001b[1;32m----> 2\u001b[1;33m \u001b[0macs\u001b[0m \u001b[1;33m=\u001b[0m \u001b[0macs\u001b[0m\u001b[1;33m.\u001b[0m\u001b[0mfilter\u001b[0m\u001b[1;33m(\u001b[0m\u001b[0mattributes\u001b[0m\u001b[1;33m)\u001b[0m\u001b[1;33m\u001b[0m\u001b[1;33m\u001b[0m\u001b[0m\n\u001b[0m\u001b[0;32m      3\u001b[0m \u001b[0macs\u001b[0m\u001b[1;33m\u001b[0m\u001b[1;33m\u001b[0m\u001b[0m\n",
      "\u001b[1;31mNameError\u001b[0m: name 'attributes' is not defined"
     ]
    }
   ],
   "source": [
    "# select the colums\n",
    "acs = acs.filter(attributes)\n",
    "acs"
   ]
  },
  {
   "cell_type": "code",
   "execution_count": 5,
   "metadata": {},
   "outputs": [],
   "source": [
    "# remove the last row\n",
    "acs = acs.drop([29567])"
   ]
  },
  {
   "cell_type": "code",
   "execution_count": 8,
   "metadata": {},
   "outputs": [],
   "source": [
    "# create more readable column names\n",
    "col_names = {\n",
    "    \"DP02_0015E\": \"ave_household_size\",\n",
    "    \"DP02_0066PE\": \"p_highschool_plus\",\n",
    "    \"DP02_0067PE\": \"p_bachelors_plus\",\n",
    "    \"DP02_0087PE\": \"p_native_born\",\n",
    "    \"DP03_0009PE\": \"p_unemployed\",\n",
    "    \"DP03_0027PE\": \"p_occ_business_science_art\",\n",
    "    \"DP03_0028PE\": \"p_occ_service\",\n",
    "    \"DP03_0029PE\": \"p_occ_sales_office\",\n",
    "    \"DP03_0030PE\": \"p_occ_resources_construction\",\n",
    "    \"DP03_0031PE\": \"p_occ_production_transport\",\n",
    "    \"DP03_0062E\": \"med_household_income\",\n",
    "    \"DP03_0063E\": \"mean_household_income\",\n",
    "    \"DP03_0119PE\": \"p_families_poverty\",\n",
    "    \"DP04_0046PE\": \"p_household_owner_occupied\",\n",
    "    \"DP04_0047PE\": \"p_household_renter_occupied\",\n",
    "    \"DP04_0137PE\": \"p_grapi_15\",\n",
    "    \"DP04_0138PE\": \"p_grapi_15-19.9\",\n",
    "    \"DP04_0139PE\": \"p_grapi_20-24.9\",\n",
    "    \"DP04_0140PE\": \"p_grapi_25-29.9\",\n",
    "    \"DP04_0141PE\": \"p_grapi_30-34.9\",\n",
    "    \"DP04_0142PE\": \"p_grapi_35\",\n",
    "    \"DP05_0063E\": \"total_pop\",\n",
    "    \"DP05_0064PE\": \"p_race_white\",\n",
    "    \"DP05_0065PE\": \"p_race_black\",\n",
    "    \"DP05_0066PE\": \"p_race_am_indian\",\n",
    "    \"DP05_0067PE\": \"p_race_asian\",\n",
    "    \"DP05_0068PE\": \"p_race_nat_hawaiian_pac_islander\",\n",
    "    \"DP05_0069PE\": \"p_race_other\",\n",
    "    \"DP05_0071PE\": \"p_race_hispanic\"\n",
    "}"
   ]
  },
  {
   "cell_type": "code",
   "execution_count": 9,
   "metadata": {},
   "outputs": [],
   "source": [
    "# rename the columns of the dataset\n",
    "acs = acs.rename(columns=col_names)"
   ]
  },
  {
   "cell_type": "code",
   "execution_count": 10,
   "metadata": {
    "scrolled": true
   },
   "outputs": [],
   "source": [
    "# output to csv\n",
    "acs.to_csv(\"acs.csv\")"
   ]
  },
  {
   "cell_type": "code",
   "execution_count": 11,
   "metadata": {},
   "outputs": [],
   "source": [
    "for col in acs.iloc[:, 2:]:\n",
    "    acs[col] = pd.to_numeric(acs[col], errors=\"coerce\")"
   ]
  },
  {
   "cell_type": "code",
   "execution_count": 12,
   "metadata": {},
   "outputs": [],
   "source": [
    "acs.describe().transpose().to_csv(\"summary.csv\")"
   ]
  },
  {
   "cell_type": "code",
   "execution_count": null,
   "metadata": {},
   "outputs": [],
   "source": []
  }
 ],
 "metadata": {
  "kernelspec": {
   "display_name": "Python 3",
   "language": "python",
   "name": "python3"
  },
  "language_info": {
   "codemirror_mode": {
    "name": "ipython",
    "version": 3
   },
   "file_extension": ".py",
   "mimetype": "text/x-python",
   "name": "python",
   "nbconvert_exporter": "python",
   "pygments_lexer": "ipython3",
   "version": "3.7.6"
  }
 },
 "nbformat": 4,
 "nbformat_minor": 4
}
